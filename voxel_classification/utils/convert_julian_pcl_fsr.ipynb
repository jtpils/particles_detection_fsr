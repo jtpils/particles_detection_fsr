{
 "cells": [
  {
   "cell_type": "code",
   "execution_count": 1,
   "metadata": {},
   "outputs": [
    {
     "name": "stdout",
     "output_type": "stream",
     "text": [
      "Converting file 10_pred...\n",
      "Converting file 13_pred...\n",
      "Converting file 15_pred...\n",
      "Converting file 16_pred...\n",
      "Converting file 18_pred...\n",
      "Converting file 1_pred...\n",
      "Converting file 5_pred...\n",
      "Converting file 6_pred...\n",
      "Conversion finished\n"
     ]
    }
   ],
   "source": [
    "import cv2\n",
    "import numpy as np\n",
    "import copy\n",
    "import time\n",
    "import os.path as osp\n",
    "import os\n",
    "import rospy\n",
    "from cv_bridge import CvBridge\n",
    "from std_msgs.msg import Header\n",
    "from sensor_msgs.msg import PointCloud2 as Pc2\n",
    "import sensor_msgs.point_cloud2 as p_c2\n",
    "from sensor_msgs.msg import PointField as Pf\n",
    "from sensor_msgs.msg import Image\n",
    "import pdb\n",
    "import sys\n",
    "sys.path.append('../src')\n",
    "from config import cfg\n",
    "\n",
    "# Load data\n",
    "# Input: a pointcloud numpy file from julian labeling (name_labeled or name_labeled_spaces)\n",
    "# path = osp.join(cfg.DATASETS_DIR,'fsr_icp')\n",
    "\n",
    "path = osp.join(cfg.ROOT_DIR,'lidar_classifier/logs/fsr_logs/icp_pred/julian2')\n",
    "\n",
    "filename = [\n",
    "    '10_pred',\n",
    "    '13_pred',\n",
    "    '15_pred',\n",
    "    '16_pred',\n",
    "    '18_pred',\n",
    "    '1_pred',\n",
    "    '5_pred',\n",
    "    '6_pred',\n",
    "]   \n",
    "\n",
    "for f in filename:\n",
    "    \n",
    "    print(\"Converting file %s...\" % f)\n",
    "    \n",
    "    pcl = np.load(osp.join(path,f+'.npy'))\n",
    "\n",
    "    pcl_new = []\n",
    "    for p in pcl:\n",
    "        \n",
    "        p_diff = p[np.sum(p[:,:3]-p[:,5:8],axis=1) !=0 ,:] # Find echo1 points that differ from echo2\n",
    "        labels_echo1 = p_diff[:,-3:]\n",
    "        labels_echo1 = np.sum(labels_echo1 * np.array([0,1,2]),axis=1)\n",
    "        p_echo1 = np.concatenate((p_diff[:,:4],1*np.ones((p_diff.shape[0],1)),labels_echo1.reshape(-1,1)),axis=1)\n",
    "        \n",
    "        labels_echo2 = np.zeros((p_diff.shape[0],1))\n",
    "        p_echo2 = np.concatenate((p_diff[:,5:9], 2*np.ones((p_diff.shape[0],1)),labels_echo2),axis=1) # Add 2 for second echo and label=0 because assumed non-particle\n",
    "        \n",
    "        p_both = p[np.sum(p[:,:3]-p[:,5:8],axis=1) == 0,:]\n",
    "        labels_both = p_both[:,-3:]\n",
    "        labels_both = np.sum(labels_both * np.array([0,1,2]),axis=1)\n",
    "        p_both = np.concatenate((p_both[:,:4],np.zeros((p_both.shape[0],1)),labels_both.reshape(-1,1)),axis=1)\n",
    "        pcl_new.append(np.concatenate((p_both,p_echo1,p_echo2)))\n",
    "    \n",
    "    np.save(osp.join(path,f+'_converted.npy'),pcl_new)\n",
    "print('Conversion finished')"
   ]
  }
 ],
 "metadata": {
  "kernelspec": {
   "display_name": "Python 2",
   "language": "python",
   "name": "python2"
  },
  "language_info": {
   "codemirror_mode": {
    "name": "ipython",
    "version": 2
   },
   "file_extension": ".py",
   "mimetype": "text/x-python",
   "name": "python",
   "nbconvert_exporter": "python",
   "pygments_lexer": "ipython2",
   "version": "2.7.12"
  }
 },
 "nbformat": 4,
 "nbformat_minor": 2
}
